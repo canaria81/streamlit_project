{
 "cells": [
  {
   "cell_type": "code",
   "execution_count": 1,
   "id": "ae74916e",
   "metadata": {},
   "outputs": [],
   "source": [
    "import pandas as pd\n",
    "import numpy as np\n",
    "import matplotlib.pyplot as plt\n",
    "import seaborn as sb\n",
    "from dateutil.parser import parse\n",
    "from datetime import date"
   ]
  },
  {
   "cell_type": "code",
   "execution_count": 2,
   "id": "63f20a55",
   "metadata": {},
   "outputs": [],
   "source": [
    "# i-pin 도입기관\n",
    "df=pd.read_csv('../i_pin/pers_I-PIN_institution_20190927.csv', encoding='MS949')"
   ]
  },
  {
   "cell_type": "code",
   "execution_count": 3,
   "id": "cc687d82",
   "metadata": {},
   "outputs": [],
   "source": [
    "# 샌드박스\n",
    "df1=pd.read_csv('../i_pin/pers_sandbox.csv', encoding='MS949')"
   ]
  },
  {
   "cell_type": "code",
   "execution_count": 4,
   "id": "012ef2e0",
   "metadata": {},
   "outputs": [
    {
     "data": {
      "text/html": [
       "<div>\n",
       "<style scoped>\n",
       "    .dataframe tbody tr th:only-of-type {\n",
       "        vertical-align: middle;\n",
       "    }\n",
       "\n",
       "    .dataframe tbody tr th {\n",
       "        vertical-align: top;\n",
       "    }\n",
       "\n",
       "    .dataframe thead th {\n",
       "        text-align: right;\n",
       "    }\n",
       "</style>\n",
       "<table border=\"1\" class=\"dataframe\">\n",
       "  <thead>\n",
       "    <tr style=\"text-align: right;\">\n",
       "      <th></th>\n",
       "      <th>기관명</th>\n",
       "      <th>홈페이지주소</th>\n",
       "      <th>오픈일자</th>\n",
       "    </tr>\n",
       "  </thead>\n",
       "  <tbody>\n",
       "    <tr>\n",
       "      <th>0</th>\n",
       "      <td>충청북도</td>\n",
       "      <td>http://www.chungbuk.go.kr</td>\n",
       "      <td>2008-08-11</td>\n",
       "    </tr>\n",
       "    <tr>\n",
       "      <th>1</th>\n",
       "      <td>문화체육관광부</td>\n",
       "      <td>http://www.mcst.go.kr</td>\n",
       "      <td>2008-08-22</td>\n",
       "    </tr>\n",
       "    <tr>\n",
       "      <th>2</th>\n",
       "      <td>산림청 기획조정관 정보통계담당관</td>\n",
       "      <td>http://www.forest.go.kr</td>\n",
       "      <td>2008-08-22</td>\n",
       "    </tr>\n",
       "    <tr>\n",
       "      <th>3</th>\n",
       "      <td>중소기업청</td>\n",
       "      <td>http://www.smba.go.kr</td>\n",
       "      <td>2008-08-25</td>\n",
       "    </tr>\n",
       "    <tr>\n",
       "      <th>4</th>\n",
       "      <td>여성가족부</td>\n",
       "      <td>http://www.mogef.go.kr</td>\n",
       "      <td>2008-08-26</td>\n",
       "    </tr>\n",
       "    <tr>\n",
       "      <th>...</th>\n",
       "      <td>...</td>\n",
       "      <td>...</td>\n",
       "      <td>...</td>\n",
       "    </tr>\n",
       "    <tr>\n",
       "      <th>4310</th>\n",
       "      <td>충청북도 진천군</td>\n",
       "      <td>http://gift.jincheon.go.kr</td>\n",
       "      <td>2018-06-29</td>\n",
       "    </tr>\n",
       "    <tr>\n",
       "      <th>4311</th>\n",
       "      <td>경기도교육청 경기도광주하남교육청</td>\n",
       "      <td>http://maeyang.ms.kr</td>\n",
       "      <td>2018-07-06</td>\n",
       "    </tr>\n",
       "    <tr>\n",
       "      <th>4312</th>\n",
       "      <td>한국방송통신대학교</td>\n",
       "      <td>http://ucampus.knou.ac.kr</td>\n",
       "      <td>2018-07-10</td>\n",
       "    </tr>\n",
       "    <tr>\n",
       "      <th>4313</th>\n",
       "      <td>경기도교육청 경기도광주하남교육청</td>\n",
       "      <td>http://dalbom.kg.kr</td>\n",
       "      <td>2018-07-10</td>\n",
       "    </tr>\n",
       "    <tr>\n",
       "      <th>4314</th>\n",
       "      <td>서울특별시교육청 서울특별시남부교육청</td>\n",
       "      <td>http://nbedu.sen.go.kr</td>\n",
       "      <td>2018-07-10</td>\n",
       "    </tr>\n",
       "  </tbody>\n",
       "</table>\n",
       "<p>4315 rows × 3 columns</p>\n",
       "</div>"
      ],
      "text/plain": [
       "                      기관명                      홈페이지주소        오픈일자\n",
       "0                    충청북도   http://www.chungbuk.go.kr  2008-08-11\n",
       "1                 문화체육관광부       http://www.mcst.go.kr  2008-08-22\n",
       "2       산림청 기획조정관 정보통계담당관     http://www.forest.go.kr  2008-08-22\n",
       "3                   중소기업청       http://www.smba.go.kr  2008-08-25\n",
       "4                   여성가족부      http://www.mogef.go.kr  2008-08-26\n",
       "...                   ...                         ...         ...\n",
       "4310             충청북도 진천군  http://gift.jincheon.go.kr  2018-06-29\n",
       "4311    경기도교육청 경기도광주하남교육청        http://maeyang.ms.kr  2018-07-06\n",
       "4312            한국방송통신대학교   http://ucampus.knou.ac.kr  2018-07-10\n",
       "4313    경기도교육청 경기도광주하남교육청         http://dalbom.kg.kr  2018-07-10\n",
       "4314  서울특별시교육청 서울특별시남부교육청      http://nbedu.sen.go.kr  2018-07-10\n",
       "\n",
       "[4315 rows x 3 columns]"
      ]
     },
     "execution_count": 4,
     "metadata": {},
     "output_type": "execute_result"
    }
   ],
   "source": [
    "df"
   ]
  },
  {
   "cell_type": "code",
   "execution_count": 5,
   "id": "c2fec743",
   "metadata": {},
   "outputs": [
    {
     "data": {
      "text/html": [
       "<div>\n",
       "<style scoped>\n",
       "    .dataframe tbody tr th:only-of-type {\n",
       "        vertical-align: middle;\n",
       "    }\n",
       "\n",
       "    .dataframe tbody tr th {\n",
       "        vertical-align: top;\n",
       "    }\n",
       "\n",
       "    .dataframe thead th {\n",
       "        text-align: right;\n",
       "    }\n",
       "</style>\n",
       "<table border=\"1\" class=\"dataframe\">\n",
       "  <thead>\n",
       "    <tr style=\"text-align: right;\">\n",
       "      <th></th>\n",
       "      <th>기관명</th>\n",
       "      <th>홈페이지주소</th>\n",
       "      <th>오픈일자</th>\n",
       "    </tr>\n",
       "  </thead>\n",
       "  <tbody>\n",
       "    <tr>\n",
       "      <th>count</th>\n",
       "      <td>4315</td>\n",
       "      <td>4315</td>\n",
       "      <td>4315</td>\n",
       "    </tr>\n",
       "    <tr>\n",
       "      <th>unique</th>\n",
       "      <td>1913</td>\n",
       "      <td>4314</td>\n",
       "      <td>740</td>\n",
       "    </tr>\n",
       "    <tr>\n",
       "      <th>top</th>\n",
       "      <td>숙명여자대학교</td>\n",
       "      <td>http://iljasan.igangdong.or.kr</td>\n",
       "      <td>2012-05-04</td>\n",
       "    </tr>\n",
       "    <tr>\n",
       "      <th>freq</th>\n",
       "      <td>61</td>\n",
       "      <td>2</td>\n",
       "      <td>228</td>\n",
       "    </tr>\n",
       "  </tbody>\n",
       "</table>\n",
       "</div>"
      ],
      "text/plain": [
       "            기관명                          홈페이지주소        오픈일자\n",
       "count      4315                            4315        4315\n",
       "unique     1913                            4314         740\n",
       "top     숙명여자대학교  http://iljasan.igangdong.or.kr  2012-05-04\n",
       "freq         61                               2         228"
      ]
     },
     "execution_count": 5,
     "metadata": {},
     "output_type": "execute_result"
    }
   ],
   "source": [
    "df.describe()"
   ]
  },
  {
   "cell_type": "code",
   "execution_count": 7,
   "id": "6f7c751d",
   "metadata": {},
   "outputs": [
    {
     "data": {
      "text/html": [
       "<div>\n",
       "<style scoped>\n",
       "    .dataframe tbody tr th:only-of-type {\n",
       "        vertical-align: middle;\n",
       "    }\n",
       "\n",
       "    .dataframe tbody tr th {\n",
       "        vertical-align: top;\n",
       "    }\n",
       "\n",
       "    .dataframe thead th {\n",
       "        text-align: right;\n",
       "    }\n",
       "</style>\n",
       "<table border=\"1\" class=\"dataframe\">\n",
       "  <thead>\n",
       "    <tr style=\"text-align: right;\">\n",
       "      <th></th>\n",
       "      <th>기관명</th>\n",
       "      <th>홈페이지주소</th>\n",
       "      <th>오픈일자</th>\n",
       "    </tr>\n",
       "  </thead>\n",
       "  <tbody>\n",
       "    <tr>\n",
       "      <th>0</th>\n",
       "      <td>충청북도</td>\n",
       "      <td>http://www.chungbuk.go.kr</td>\n",
       "      <td>2008-08-11</td>\n",
       "    </tr>\n",
       "  </tbody>\n",
       "</table>\n",
       "</div>"
      ],
      "text/plain": [
       "    기관명                     홈페이지주소        오픈일자\n",
       "0  충청북도  http://www.chungbuk.go.kr  2008-08-11"
      ]
     },
     "execution_count": 7,
     "metadata": {},
     "output_type": "execute_result"
    }
   ],
   "source": [
    "# i-pin 도입이 가장 빠른 공공기관\n",
    "df.loc[ df['오픈일자'] == df['오픈일자'].min(), ]"
   ]
  },
  {
   "cell_type": "code",
   "execution_count": 8,
   "id": "c9c49f3a",
   "metadata": {},
   "outputs": [
    {
     "data": {
      "text/html": [
       "<div>\n",
       "<style scoped>\n",
       "    .dataframe tbody tr th:only-of-type {\n",
       "        vertical-align: middle;\n",
       "    }\n",
       "\n",
       "    .dataframe tbody tr th {\n",
       "        vertical-align: top;\n",
       "    }\n",
       "\n",
       "    .dataframe thead th {\n",
       "        text-align: right;\n",
       "    }\n",
       "</style>\n",
       "<table border=\"1\" class=\"dataframe\">\n",
       "  <thead>\n",
       "    <tr style=\"text-align: right;\">\n",
       "      <th></th>\n",
       "      <th>기관명</th>\n",
       "      <th>홈페이지주소</th>\n",
       "      <th>오픈일자</th>\n",
       "    </tr>\n",
       "  </thead>\n",
       "  <tbody>\n",
       "    <tr>\n",
       "      <th>4312</th>\n",
       "      <td>한국방송통신대학교</td>\n",
       "      <td>http://ucampus.knou.ac.kr</td>\n",
       "      <td>2018-07-10</td>\n",
       "    </tr>\n",
       "    <tr>\n",
       "      <th>4313</th>\n",
       "      <td>경기도교육청 경기도광주하남교육청</td>\n",
       "      <td>http://dalbom.kg.kr</td>\n",
       "      <td>2018-07-10</td>\n",
       "    </tr>\n",
       "    <tr>\n",
       "      <th>4314</th>\n",
       "      <td>서울특별시교육청 서울특별시남부교육청</td>\n",
       "      <td>http://nbedu.sen.go.kr</td>\n",
       "      <td>2018-07-10</td>\n",
       "    </tr>\n",
       "  </tbody>\n",
       "</table>\n",
       "</div>"
      ],
      "text/plain": [
       "                      기관명                     홈페이지주소        오픈일자\n",
       "4312            한국방송통신대학교  http://ucampus.knou.ac.kr  2018-07-10\n",
       "4313    경기도교육청 경기도광주하남교육청        http://dalbom.kg.kr  2018-07-10\n",
       "4314  서울특별시교육청 서울특별시남부교육청     http://nbedu.sen.go.kr  2018-07-10"
      ]
     },
     "execution_count": 8,
     "metadata": {},
     "output_type": "execute_result"
    }
   ],
   "source": [
    "# i-pin 도입이 가장 늦은 공공기관\n",
    "df.loc[ df['오픈일자'] == df['오픈일자'].max(), ]"
   ]
  },
  {
   "cell_type": "code",
   "execution_count": 9,
   "id": "b60737ff",
   "metadata": {},
   "outputs": [
    {
     "data": {
      "text/html": [
       "<div>\n",
       "<style scoped>\n",
       "    .dataframe tbody tr th:only-of-type {\n",
       "        vertical-align: middle;\n",
       "    }\n",
       "\n",
       "    .dataframe tbody tr th {\n",
       "        vertical-align: top;\n",
       "    }\n",
       "\n",
       "    .dataframe thead th {\n",
       "        text-align: right;\n",
       "    }\n",
       "</style>\n",
       "<table border=\"1\" class=\"dataframe\">\n",
       "  <thead>\n",
       "    <tr style=\"text-align: right;\">\n",
       "      <th></th>\n",
       "      <th>기관명</th>\n",
       "      <th>홈페이지주소</th>\n",
       "      <th>오픈일자</th>\n",
       "    </tr>\n",
       "  </thead>\n",
       "  <tbody>\n",
       "    <tr>\n",
       "      <th>0</th>\n",
       "      <td>충청북도</td>\n",
       "      <td>http://www.chungbuk.go.kr</td>\n",
       "      <td>2008-08-11</td>\n",
       "    </tr>\n",
       "    <tr>\n",
       "      <th>1</th>\n",
       "      <td>문화체육관광부</td>\n",
       "      <td>http://www.mcst.go.kr</td>\n",
       "      <td>2008-08-22</td>\n",
       "    </tr>\n",
       "    <tr>\n",
       "      <th>2</th>\n",
       "      <td>산림청 기획조정관 정보통계담당관</td>\n",
       "      <td>http://www.forest.go.kr</td>\n",
       "      <td>2008-08-22</td>\n",
       "    </tr>\n",
       "    <tr>\n",
       "      <th>3</th>\n",
       "      <td>중소기업청</td>\n",
       "      <td>http://www.smba.go.kr</td>\n",
       "      <td>2008-08-25</td>\n",
       "    </tr>\n",
       "    <tr>\n",
       "      <th>4</th>\n",
       "      <td>여성가족부</td>\n",
       "      <td>http://www.mogef.go.kr</td>\n",
       "      <td>2008-08-26</td>\n",
       "    </tr>\n",
       "  </tbody>\n",
       "</table>\n",
       "</div>"
      ],
      "text/plain": [
       "                 기관명                     홈페이지주소        오픈일자\n",
       "0               충청북도  http://www.chungbuk.go.kr  2008-08-11\n",
       "1            문화체육관광부      http://www.mcst.go.kr  2008-08-22\n",
       "2  산림청 기획조정관 정보통계담당관    http://www.forest.go.kr  2008-08-22\n",
       "3              중소기업청      http://www.smba.go.kr  2008-08-25\n",
       "4              여성가족부     http://www.mogef.go.kr  2008-08-26"
      ]
     },
     "execution_count": 9,
     "metadata": {},
     "output_type": "execute_result"
    }
   ],
   "source": [
    "df.head()"
   ]
  },
  {
   "cell_type": "code",
   "execution_count": 10,
   "id": "3f7c14fa",
   "metadata": {},
   "outputs": [
    {
     "data": {
      "text/plain": [
       "숙명여자대학교                      61\n",
       "경기도교육청 경기도평택교육청              54\n",
       "기타                           45\n",
       "서울특별시                        40\n",
       "경기도교육청 경기도군포의왕교육청            37\n",
       "                             ..\n",
       "경찰청 경찰병원                      1\n",
       "대구광역시교육청 대구광역시립남부도서관          1\n",
       "국토해양부 군산지방해양항만청 위성항법중앙사무소     1\n",
       "경상북도교육청 경상북도문경교육청 점촌공공도서관     1\n",
       "서울특별시교육청 서울특별시남부교육청           1\n",
       "Name: 기관명, Length: 1913, dtype: int64"
      ]
     },
     "execution_count": 10,
     "metadata": {},
     "output_type": "execute_result"
    }
   ],
   "source": [
    "df['기관명'].value_counts()"
   ]
  },
  {
   "cell_type": "code",
   "execution_count": 11,
   "id": "0d7e2c32",
   "metadata": {},
   "outputs": [],
   "source": [
    "op_year=df['오픈일자'].str[ : 4]"
   ]
  },
  {
   "cell_type": "code",
   "execution_count": 12,
   "id": "046386a1",
   "metadata": {},
   "outputs": [
    {
     "data": {
      "text/plain": [
       "array(['2008', '2009', '2010', '2011', '2012', '2013', '2014', '2015',\n",
       "       '2016', '2017', '2018'], dtype=object)"
      ]
     },
     "execution_count": 12,
     "metadata": {},
     "output_type": "execute_result"
    }
   ],
   "source": [
    "op_year.unique()"
   ]
  },
  {
   "cell_type": "code",
   "execution_count": 13,
   "id": "1afdbf0a",
   "metadata": {},
   "outputs": [
    {
     "name": "stderr",
     "output_type": "stream",
     "text": [
      "C:\\Users\\5-6\\AppData\\Local\\Temp\\ipykernel_9208\\961313269.py:1: FutureWarning: pivot_table dropped a column because it failed to aggregate. This behavior is deprecated and will raise in a future version of pandas. Select only the columns that can be aggregated.\n",
      "  pd.pivot_table( df, index=[op_year] )\n"
     ]
    },
    {
     "data": {
      "text/html": [
       "<div>\n",
       "<style scoped>\n",
       "    .dataframe tbody tr th:only-of-type {\n",
       "        vertical-align: middle;\n",
       "    }\n",
       "\n",
       "    .dataframe tbody tr th {\n",
       "        vertical-align: top;\n",
       "    }\n",
       "\n",
       "    .dataframe thead th {\n",
       "        text-align: right;\n",
       "    }\n",
       "</style>\n",
       "<table border=\"1\" class=\"dataframe\">\n",
       "  <thead>\n",
       "    <tr style=\"text-align: right;\">\n",
       "      <th></th>\n",
       "    </tr>\n",
       "    <tr>\n",
       "      <th>오픈일자</th>\n",
       "    </tr>\n",
       "  </thead>\n",
       "  <tbody>\n",
       "    <tr>\n",
       "      <th>2008</th>\n",
       "    </tr>\n",
       "    <tr>\n",
       "      <th>2009</th>\n",
       "    </tr>\n",
       "    <tr>\n",
       "      <th>2010</th>\n",
       "    </tr>\n",
       "    <tr>\n",
       "      <th>2011</th>\n",
       "    </tr>\n",
       "    <tr>\n",
       "      <th>2012</th>\n",
       "    </tr>\n",
       "    <tr>\n",
       "      <th>2013</th>\n",
       "    </tr>\n",
       "    <tr>\n",
       "      <th>2014</th>\n",
       "    </tr>\n",
       "    <tr>\n",
       "      <th>2015</th>\n",
       "    </tr>\n",
       "    <tr>\n",
       "      <th>2016</th>\n",
       "    </tr>\n",
       "    <tr>\n",
       "      <th>2017</th>\n",
       "    </tr>\n",
       "    <tr>\n",
       "      <th>2018</th>\n",
       "    </tr>\n",
       "  </tbody>\n",
       "</table>\n",
       "</div>"
      ],
      "text/plain": [
       "Empty DataFrame\n",
       "Columns: []\n",
       "Index: [2008, 2009, 2010, 2011, 2012, 2013, 2014, 2015, 2016, 2017, 2018]"
      ]
     },
     "execution_count": 13,
     "metadata": {},
     "output_type": "execute_result"
    }
   ],
   "source": [
    "pd.pivot_table( df, index=[op_year] )"
   ]
  },
  {
   "cell_type": "code",
   "execution_count": 14,
   "id": "d651f846",
   "metadata": {},
   "outputs": [],
   "source": [
    "# 연도별 도입 기관 수\n",
    "year_counts=op_year.value_counts()"
   ]
  },
  {
   "cell_type": "code",
   "execution_count": 15,
   "id": "1c5f485f",
   "metadata": {},
   "outputs": [
    {
     "data": {
      "text/plain": [
       "2009    1299\n",
       "2012     884\n",
       "2013     514\n",
       "2011     460\n",
       "2010     235\n",
       "Name: 오픈일자, dtype: int64"
      ]
     },
     "execution_count": 15,
     "metadata": {},
     "output_type": "execute_result"
    }
   ],
   "source": [
    "year_counts.head()"
   ]
  },
  {
   "cell_type": "code",
   "execution_count": 17,
   "id": "2f3a3a29",
   "metadata": {},
   "outputs": [
    {
     "data": {
      "text/plain": [
       "Index(['기관명', '홈페이지주소', '오픈일자'], dtype='object')"
      ]
     },
     "execution_count": 17,
     "metadata": {},
     "output_type": "execute_result"
    }
   ],
   "source": [
    "df.columns"
   ]
  },
  {
   "cell_type": "code",
   "execution_count": 18,
   "id": "41a8ae5b",
   "metadata": {},
   "outputs": [],
   "source": [
    "from sklearn.preprocessing import OneHotEncoder\n",
    "from sklearn.compose import ColumnTransformer"
   ]
  },
  {
   "cell_type": "code",
   "execution_count": 19,
   "id": "9ae6d067",
   "metadata": {},
   "outputs": [
    {
     "data": {
      "text/html": [
       "<style>#sk-container-id-1 {color: black;background-color: white;}#sk-container-id-1 pre{padding: 0;}#sk-container-id-1 div.sk-toggleable {background-color: white;}#sk-container-id-1 label.sk-toggleable__label {cursor: pointer;display: block;width: 100%;margin-bottom: 0;padding: 0.3em;box-sizing: border-box;text-align: center;}#sk-container-id-1 label.sk-toggleable__label-arrow:before {content: \"▸\";float: left;margin-right: 0.25em;color: #696969;}#sk-container-id-1 label.sk-toggleable__label-arrow:hover:before {color: black;}#sk-container-id-1 div.sk-estimator:hover label.sk-toggleable__label-arrow:before {color: black;}#sk-container-id-1 div.sk-toggleable__content {max-height: 0;max-width: 0;overflow: hidden;text-align: left;background-color: #f0f8ff;}#sk-container-id-1 div.sk-toggleable__content pre {margin: 0.2em;color: black;border-radius: 0.25em;background-color: #f0f8ff;}#sk-container-id-1 input.sk-toggleable__control:checked~div.sk-toggleable__content {max-height: 200px;max-width: 100%;overflow: auto;}#sk-container-id-1 input.sk-toggleable__control:checked~label.sk-toggleable__label-arrow:before {content: \"▾\";}#sk-container-id-1 div.sk-estimator input.sk-toggleable__control:checked~label.sk-toggleable__label {background-color: #d4ebff;}#sk-container-id-1 div.sk-label input.sk-toggleable__control:checked~label.sk-toggleable__label {background-color: #d4ebff;}#sk-container-id-1 input.sk-hidden--visually {border: 0;clip: rect(1px 1px 1px 1px);clip: rect(1px, 1px, 1px, 1px);height: 1px;margin: -1px;overflow: hidden;padding: 0;position: absolute;width: 1px;}#sk-container-id-1 div.sk-estimator {font-family: monospace;background-color: #f0f8ff;border: 1px dotted black;border-radius: 0.25em;box-sizing: border-box;margin-bottom: 0.5em;}#sk-container-id-1 div.sk-estimator:hover {background-color: #d4ebff;}#sk-container-id-1 div.sk-parallel-item::after {content: \"\";width: 100%;border-bottom: 1px solid gray;flex-grow: 1;}#sk-container-id-1 div.sk-label:hover label.sk-toggleable__label {background-color: #d4ebff;}#sk-container-id-1 div.sk-serial::before {content: \"\";position: absolute;border-left: 1px solid gray;box-sizing: border-box;top: 0;bottom: 0;left: 50%;z-index: 0;}#sk-container-id-1 div.sk-serial {display: flex;flex-direction: column;align-items: center;background-color: white;padding-right: 0.2em;padding-left: 0.2em;position: relative;}#sk-container-id-1 div.sk-item {position: relative;z-index: 1;}#sk-container-id-1 div.sk-parallel {display: flex;align-items: stretch;justify-content: center;background-color: white;position: relative;}#sk-container-id-1 div.sk-item::before, #sk-container-id-1 div.sk-parallel-item::before {content: \"\";position: absolute;border-left: 1px solid gray;box-sizing: border-box;top: 0;bottom: 0;left: 50%;z-index: -1;}#sk-container-id-1 div.sk-parallel-item {display: flex;flex-direction: column;z-index: 1;position: relative;background-color: white;}#sk-container-id-1 div.sk-parallel-item:first-child::after {align-self: flex-end;width: 50%;}#sk-container-id-1 div.sk-parallel-item:last-child::after {align-self: flex-start;width: 50%;}#sk-container-id-1 div.sk-parallel-item:only-child::after {width: 0;}#sk-container-id-1 div.sk-dashed-wrapped {border: 1px dashed gray;margin: 0 0.4em 0.5em 0.4em;box-sizing: border-box;padding-bottom: 0.4em;background-color: white;}#sk-container-id-1 div.sk-label label {font-family: monospace;font-weight: bold;display: inline-block;line-height: 1.2em;}#sk-container-id-1 div.sk-label-container {text-align: center;}#sk-container-id-1 div.sk-container {/* jupyter's `normalize.less` sets `[hidden] { display: none; }` but bootstrap.min.css set `[hidden] { display: none !important; }` so we also need the `!important` here to be able to override the default hidden behavior on the sphinx rendered scikit-learn.org. See: https://github.com/scikit-learn/scikit-learn/issues/21755 */display: inline-block !important;position: relative;}#sk-container-id-1 div.sk-text-repr-fallback {display: none;}</style><div id=\"sk-container-id-1\" class=\"sk-top-container\"><div class=\"sk-text-repr-fallback\"><pre>ColumnTransformer(remainder=&#x27;passthrough&#x27;,\n",
       "                  transformers=[(&#x27;encoder&#x27;, OneHotEncoder(), [3])])</pre><b>In a Jupyter environment, please rerun this cell to show the HTML representation or trust the notebook. <br />On GitHub, the HTML representation is unable to render, please try loading this page with nbviewer.org.</b></div><div class=\"sk-container\" hidden><div class=\"sk-item sk-dashed-wrapped\"><div class=\"sk-label-container\"><div class=\"sk-label sk-toggleable\"><input class=\"sk-toggleable__control sk-hidden--visually\" id=\"sk-estimator-id-1\" type=\"checkbox\" ><label for=\"sk-estimator-id-1\" class=\"sk-toggleable__label sk-toggleable__label-arrow\">ColumnTransformer</label><div class=\"sk-toggleable__content\"><pre>ColumnTransformer(remainder=&#x27;passthrough&#x27;,\n",
       "                  transformers=[(&#x27;encoder&#x27;, OneHotEncoder(), [3])])</pre></div></div></div><div class=\"sk-parallel\"><div class=\"sk-parallel-item\"><div class=\"sk-item\"><div class=\"sk-label-container\"><div class=\"sk-label sk-toggleable\"><input class=\"sk-toggleable__control sk-hidden--visually\" id=\"sk-estimator-id-2\" type=\"checkbox\" ><label for=\"sk-estimator-id-2\" class=\"sk-toggleable__label sk-toggleable__label-arrow\">encoder</label><div class=\"sk-toggleable__content\"><pre>[3]</pre></div></div></div><div class=\"sk-serial\"><div class=\"sk-item\"><div class=\"sk-estimator sk-toggleable\"><input class=\"sk-toggleable__control sk-hidden--visually\" id=\"sk-estimator-id-3\" type=\"checkbox\" ><label for=\"sk-estimator-id-3\" class=\"sk-toggleable__label sk-toggleable__label-arrow\">OneHotEncoder</label><div class=\"sk-toggleable__content\"><pre>OneHotEncoder()</pre></div></div></div></div></div></div><div class=\"sk-parallel-item\"><div class=\"sk-item\"><div class=\"sk-label-container\"><div class=\"sk-label sk-toggleable\"><input class=\"sk-toggleable__control sk-hidden--visually\" id=\"sk-estimator-id-4\" type=\"checkbox\" ><label for=\"sk-estimator-id-4\" class=\"sk-toggleable__label sk-toggleable__label-arrow\">remainder</label><div class=\"sk-toggleable__content\"><pre></pre></div></div></div><div class=\"sk-serial\"><div class=\"sk-item\"><div class=\"sk-estimator sk-toggleable\"><input class=\"sk-toggleable__control sk-hidden--visually\" id=\"sk-estimator-id-5\" type=\"checkbox\" ><label for=\"sk-estimator-id-5\" class=\"sk-toggleable__label sk-toggleable__label-arrow\">passthrough</label><div class=\"sk-toggleable__content\"><pre>passthrough</pre></div></div></div></div></div></div></div></div></div></div>"
      ],
      "text/plain": [
       "ColumnTransformer(remainder='passthrough',\n",
       "                  transformers=[('encoder', OneHotEncoder(), [3])])"
      ]
     },
     "execution_count": 19,
     "metadata": {},
     "output_type": "execute_result"
    }
   ],
   "source": [
    "ColumnTransformer( [ ('encoder', OneHotEncoder() , [3] ) ] , \n",
    "                  remainder= 'passthrough')"
   ]
  },
  {
   "cell_type": "code",
   "execution_count": null,
   "id": "c8353776",
   "metadata": {},
   "outputs": [],
   "source": []
  },
  {
   "cell_type": "code",
   "execution_count": 20,
   "id": "728b4400",
   "metadata": {},
   "outputs": [
    {
     "data": {
      "text/plain": [
       "0       2008 연도\n",
       "1       2008 연도\n",
       "2       2008 연도\n",
       "3       2008 연도\n",
       "4       2008 연도\n",
       "         ...   \n",
       "4310    2018 연도\n",
       "4311    2018 연도\n",
       "4312    2018 연도\n",
       "4313    2018 연도\n",
       "4314    2018 연도\n",
       "Name: 오픈일자, Length: 4315, dtype: object"
      ]
     },
     "execution_count": 20,
     "metadata": {},
     "output_type": "execute_result"
    }
   ],
   "source": [
    "df['오픈일자'].str[ : 4] + ' 연도'"
   ]
  },
  {
   "cell_type": "code",
   "execution_count": 21,
   "id": "1a7955a8",
   "metadata": {},
   "outputs": [],
   "source": [
    "year=df['오픈일자'].str[ : 4] + ' 연도'"
   ]
  },
  {
   "cell_type": "code",
   "execution_count": 22,
   "id": "6386487d",
   "metadata": {},
   "outputs": [],
   "source": [
    "years = year.to_list()"
   ]
  },
  {
   "cell_type": "code",
   "execution_count": 23,
   "id": "5bbf4954",
   "metadata": {},
   "outputs": [],
   "source": [
    "df['오픈연도'] = years"
   ]
  },
  {
   "cell_type": "code",
   "execution_count": 24,
   "id": "d49b622a",
   "metadata": {},
   "outputs": [
    {
     "data": {
      "text/html": [
       "<div>\n",
       "<style scoped>\n",
       "    .dataframe tbody tr th:only-of-type {\n",
       "        vertical-align: middle;\n",
       "    }\n",
       "\n",
       "    .dataframe tbody tr th {\n",
       "        vertical-align: top;\n",
       "    }\n",
       "\n",
       "    .dataframe thead th {\n",
       "        text-align: right;\n",
       "    }\n",
       "</style>\n",
       "<table border=\"1\" class=\"dataframe\">\n",
       "  <thead>\n",
       "    <tr style=\"text-align: right;\">\n",
       "      <th></th>\n",
       "      <th>기관명</th>\n",
       "      <th>홈페이지주소</th>\n",
       "      <th>오픈일자</th>\n",
       "      <th>오픈연도</th>\n",
       "    </tr>\n",
       "  </thead>\n",
       "  <tbody>\n",
       "    <tr>\n",
       "      <th>0</th>\n",
       "      <td>충청북도</td>\n",
       "      <td>http://www.chungbuk.go.kr</td>\n",
       "      <td>2008-08-11</td>\n",
       "      <td>2008 연도</td>\n",
       "    </tr>\n",
       "    <tr>\n",
       "      <th>1</th>\n",
       "      <td>문화체육관광부</td>\n",
       "      <td>http://www.mcst.go.kr</td>\n",
       "      <td>2008-08-22</td>\n",
       "      <td>2008 연도</td>\n",
       "    </tr>\n",
       "    <tr>\n",
       "      <th>2</th>\n",
       "      <td>산림청 기획조정관 정보통계담당관</td>\n",
       "      <td>http://www.forest.go.kr</td>\n",
       "      <td>2008-08-22</td>\n",
       "      <td>2008 연도</td>\n",
       "    </tr>\n",
       "    <tr>\n",
       "      <th>3</th>\n",
       "      <td>중소기업청</td>\n",
       "      <td>http://www.smba.go.kr</td>\n",
       "      <td>2008-08-25</td>\n",
       "      <td>2008 연도</td>\n",
       "    </tr>\n",
       "    <tr>\n",
       "      <th>4</th>\n",
       "      <td>여성가족부</td>\n",
       "      <td>http://www.mogef.go.kr</td>\n",
       "      <td>2008-08-26</td>\n",
       "      <td>2008 연도</td>\n",
       "    </tr>\n",
       "    <tr>\n",
       "      <th>...</th>\n",
       "      <td>...</td>\n",
       "      <td>...</td>\n",
       "      <td>...</td>\n",
       "      <td>...</td>\n",
       "    </tr>\n",
       "    <tr>\n",
       "      <th>4310</th>\n",
       "      <td>충청북도 진천군</td>\n",
       "      <td>http://gift.jincheon.go.kr</td>\n",
       "      <td>2018-06-29</td>\n",
       "      <td>2018 연도</td>\n",
       "    </tr>\n",
       "    <tr>\n",
       "      <th>4311</th>\n",
       "      <td>경기도교육청 경기도광주하남교육청</td>\n",
       "      <td>http://maeyang.ms.kr</td>\n",
       "      <td>2018-07-06</td>\n",
       "      <td>2018 연도</td>\n",
       "    </tr>\n",
       "    <tr>\n",
       "      <th>4312</th>\n",
       "      <td>한국방송통신대학교</td>\n",
       "      <td>http://ucampus.knou.ac.kr</td>\n",
       "      <td>2018-07-10</td>\n",
       "      <td>2018 연도</td>\n",
       "    </tr>\n",
       "    <tr>\n",
       "      <th>4313</th>\n",
       "      <td>경기도교육청 경기도광주하남교육청</td>\n",
       "      <td>http://dalbom.kg.kr</td>\n",
       "      <td>2018-07-10</td>\n",
       "      <td>2018 연도</td>\n",
       "    </tr>\n",
       "    <tr>\n",
       "      <th>4314</th>\n",
       "      <td>서울특별시교육청 서울특별시남부교육청</td>\n",
       "      <td>http://nbedu.sen.go.kr</td>\n",
       "      <td>2018-07-10</td>\n",
       "      <td>2018 연도</td>\n",
       "    </tr>\n",
       "  </tbody>\n",
       "</table>\n",
       "<p>4315 rows × 4 columns</p>\n",
       "</div>"
      ],
      "text/plain": [
       "                      기관명                      홈페이지주소        오픈일자     오픈연도\n",
       "0                    충청북도   http://www.chungbuk.go.kr  2008-08-11  2008 연도\n",
       "1                 문화체육관광부       http://www.mcst.go.kr  2008-08-22  2008 연도\n",
       "2       산림청 기획조정관 정보통계담당관     http://www.forest.go.kr  2008-08-22  2008 연도\n",
       "3                   중소기업청       http://www.smba.go.kr  2008-08-25  2008 연도\n",
       "4                   여성가족부      http://www.mogef.go.kr  2008-08-26  2008 연도\n",
       "...                   ...                         ...         ...      ...\n",
       "4310             충청북도 진천군  http://gift.jincheon.go.kr  2018-06-29  2018 연도\n",
       "4311    경기도교육청 경기도광주하남교육청        http://maeyang.ms.kr  2018-07-06  2018 연도\n",
       "4312            한국방송통신대학교   http://ucampus.knou.ac.kr  2018-07-10  2018 연도\n",
       "4313    경기도교육청 경기도광주하남교육청         http://dalbom.kg.kr  2018-07-10  2018 연도\n",
       "4314  서울특별시교육청 서울특별시남부교육청      http://nbedu.sen.go.kr  2018-07-10  2018 연도\n",
       "\n",
       "[4315 rows x 4 columns]"
      ]
     },
     "execution_count": 24,
     "metadata": {},
     "output_type": "execute_result"
    }
   ],
   "source": [
    "df"
   ]
  },
  {
   "cell_type": "code",
   "execution_count": null,
   "id": "bc0396f7",
   "metadata": {},
   "outputs": [],
   "source": []
  },
  {
   "cell_type": "code",
   "execution_count": null,
   "id": "d8af2842",
   "metadata": {},
   "outputs": [],
   "source": []
  },
  {
   "cell_type": "code",
   "execution_count": null,
   "id": "01c56a1f",
   "metadata": {},
   "outputs": [],
   "source": []
  },
  {
   "cell_type": "code",
   "execution_count": null,
   "id": "436b8d2c",
   "metadata": {},
   "outputs": [],
   "source": []
  },
  {
   "cell_type": "code",
   "execution_count": null,
   "id": "76180db0",
   "metadata": {},
   "outputs": [],
   "source": []
  },
  {
   "cell_type": "code",
   "execution_count": null,
   "id": "0dd05778",
   "metadata": {},
   "outputs": [],
   "source": [
    "#plt.figure(figsize=(10,8))\n",
    "#sb.heatmap(data= df2, cmap='RdPu', annot=True, fmt='.1f', linewidths=0.8)\n",
    "#plt.show()"
   ]
  },
  {
   "cell_type": "code",
   "execution_count": null,
   "id": "3ed5dfef",
   "metadata": {},
   "outputs": [],
   "source": [
    "#                ColumnTransformer( [ ('encoder', OneHotEncoder() , [3] ) ] , \n",
    "                 # remainder= 'passthrough')\n",
    "#plt.plot(y_test.values)\n",
    "#plt.plot(y_pred)\n",
    "#plt.legend(['Real', 'Pred'])\n",
    "#plt.savefig('chart1.jpg')\n",
    "#plt.show()\n",
    "#sb.countplot(data= df, x='')\n",
    "#plt.show()"
   ]
  }
 ],
 "metadata": {
  "kernelspec": {
   "display_name": "Python 3 (ipykernel)",
   "language": "python",
   "name": "python3"
  },
  "language_info": {
   "codemirror_mode": {
    "name": "ipython",
    "version": 3
   },
   "file_extension": ".py",
   "mimetype": "text/x-python",
   "name": "python",
   "nbconvert_exporter": "python",
   "pygments_lexer": "ipython3",
   "version": "3.8.15"
  }
 },
 "nbformat": 4,
 "nbformat_minor": 5
}
